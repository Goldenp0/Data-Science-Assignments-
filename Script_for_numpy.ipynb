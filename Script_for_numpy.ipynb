{
 "cells": [
  {
   "cell_type": "markdown",
   "metadata": {},
   "source": [
    "# Consider an integer vector Z, which of these expressions are legal? (★☆☆)\n",
    "Z**Z\n",
    "2 << Z >> 2\n",
    "Z <- Z\n",
    "1j*Z\n",
    "Z/1/1\n",
    "Z<Z>Z"
   ]
  },
  {
   "cell_type": "markdown",
   "metadata": {},
   "source": [
    "Z**Z: Legal. It represents element-wise exponentiation of Z to the power of itself.\n",
    "\n",
    "2 << Z >> 2: Legal. It represents a bitwise left shift by Z bits and then a bitwise right shift by 2 bits.\n",
    "\n",
    "Z <- Z: Legal. It represents element-wise less than comparison.\n",
    "\n",
    "1j*Z: Legal. It represents element-wise multiplication by the imaginary unit (j).\n",
    "\n",
    "Z/1/1: Legal. It represents element-wise division by 1.\n",
    "\n",
    "Z<Z>Z: Illegal. The combination of < and > is not a valid syntax for element-wise comparison in this context.\n",
    "\n",
    "# Answer\n",
    "So, all expressions are legal except for the last one (Z<Z>Z)"
   ]
  },
  {
   "cell_type": "markdown",
   "metadata": {},
   "source": [
    "# What are the result of the following expressions? (★☆☆)\n",
    "np.array(0) / np.array(0)\n",
    "np.array(0) // np.array(0)\n",
    "np.array([np.nan]).astype(int).astype(float)"
   ]
  },
  {
   "cell_type": "markdown",
   "metadata": {},
   "source": [
    "# Answer \n",
    "np.array(0) / np.array(0): Results in nan (Not a Number).\n",
    "np.array(0) // np.array(0): Results in 0.\n",
    "np.array([np.nan]).astype(int).astype(float): Results in array([-2.14748365e+09])."
   ]
  },
  {
   "cell_type": "markdown",
   "metadata": {},
   "source": [
    "# How to round away from zero a float array?"
   ]
  },
  {
   "cell_type": "code",
   "execution_count": null,
   "metadata": {
    "vscode": {
     "languageId": "plaintext"
    }
   },
   "outputs": [],
   "source": [
    "arr = np.array([-1.5, 2.7, -0.8, 3.2])\n",
    "rounded_arr = np.ceil(arr)\n"
   ]
  },
  {
   "cell_type": "markdown",
   "metadata": {},
   "source": [
    "# How to find common values between two arrays?\n",
    "\n",
    "common_values = np.intersect1d(arr1, arr2)\n",
    "\n"
   ]
  },
  {
   "cell_type": "markdown",
   "metadata": {},
   "source": [
    "# How to ignore all numpy warnings (not recommended)?\n",
    "You can use np.seterr to control floating-point error handling. However, it's generally not recommended to ignore warnings.\n",
    "\n",
    "np.seterr(all='ignore')\n"
   ]
  },
  {
   "cell_type": "markdown",
   "metadata": {},
   "source": [
    "# Is the following expression true?\n",
    "np.sqrt(-1) == np.emath.sqrt(-1): \n",
    "# Answer \n",
    "Results in False. np.sqrt(-1) produces a nan, while np.emath.sqrt(-1) produces a complex number 1j."
   ]
  },
  {
   "cell_type": "markdown",
   "metadata": {},
   "source": [
    "# How to get the dates of yesterday, today, and tomorrow?\n",
    "\n",
    "import datetime\n",
    "today = datetime.date.today()\n",
    "yesterday = today - datetime.timedelta(days=1)\n",
    "tomorrow = today + datetime.timedelta(days=1)\n"
   ]
  },
  {
   "cell_type": "markdown",
   "metadata": {},
   "source": [
    "# How to get all the dates corresponding to the month of July 2016?\n",
    "\n",
    "import pandas as pd\n",
    "dates_july_2016 = pd.date_range('2016-07-01', '2016-07-31')\n"
   ]
  },
  {
   "cell_type": "markdown",
   "metadata": {},
   "source": [
    "# How to compute ((A+B)*(-A/2)) in place (without copy)?\n",
    "Use in-place operations like +=, *=.\n",
    "\n",
    "# Answer \n",
    "A += B\n",
    "A *= (-A / 2)\n"
   ]
  },
  {
   "cell_type": "markdown",
   "metadata": {},
   "source": [
    "# Extract the integer part of a random array of positive numbers using 4 different methods\n",
    "\n",
    "This involves using np.floor, np.ceil, np.trunc, and typecasting.\n"
   ]
  },
  {
   "cell_type": "markdown",
   "metadata": {},
   "source": [
    "# Create a 5x5 matrix with row values ranging from 0 to 4 \n",
    "\n",
    "matrix = np.tile(np.arange(5), (5, 1))"
   ]
  },
  {
   "cell_type": "markdown",
   "metadata": {},
   "source": [
    "# Consider a generator function that generates 10 integers and use it to build an array \n",
    "\n",
    "generator_func = (i for i in range(10))\n",
    "array = np.fromiter(generator_func, int)\n"
   ]
  },
  {
   "cell_type": "markdown",
   "metadata": {},
   "source": [
    "# Create a vector of size 10 with values ranging from 0 to 1, both excluded\n",
    "\n",
    "vector = np.linspace(0, 1, 12)[1:-1]\n"
   ]
  },
  {
   "cell_type": "markdown",
   "metadata": {},
   "source": [
    "# Create a random vector of size 10 and sort it\n",
    "\n",
    "random_vector = np.random.rand(10)\n",
    "sorted_vector = np.sort(random_vector)\n"
   ]
  },
  {
   "cell_type": "markdown",
   "metadata": {},
   "source": [
    "# How to sum a small array faster than np.sum?\n",
    "\n",
    "result = np.add.reduce(array)\n",
    "\n",
    "\n"
   ]
  },
  {
   "cell_type": "markdown",
   "metadata": {},
   "source": [
    "# Consider two random arrays A and B, check if they are equal\n",
    "\n",
    "are_equal = np.array_equal(A, B)\n"
   ]
  },
  {
   "cell_type": "markdown",
   "metadata": {},
   "source": [
    "# Make an array immutable (read-only)\n",
    "\n",
    "arr.flags.writeable = False\n",
    "\n"
   ]
  },
  {
   "cell_type": "markdown",
   "metadata": {},
   "source": [
    "# Consider a random 10x2 matrix representing cartesian coordinates, convert them to polar coordinates\n",
    "\n",
    "cartesian_matrix = np.random.rand(10, 2)\n",
    "polar_matrix = np.column_stack((np.arctan2(cartesian_matrix[:, 1], cartesian_matrix[:, 0]),\n",
    "                               np.hypot(cartesian_matrix[:, 0], cartesian_matrix[:, 1])))\n",
    "\n"
   ]
  },
  {
   "cell_type": "markdown",
   "metadata": {},
   "source": [
    "# Create a random vector of size 10 and replace the maximum value by 0\n",
    "\n",
    "random_vector = np.random.rand(10)\n",
    "random_vector[np.argmax(random_vector)] = 0\n",
    "\n",
    "\n"
   ]
  },
  {
   "cell_type": "markdown",
   "metadata": {},
   "source": [
    "# Create a structured array with x and y coordinates covering the [0,1]x[0,1] area\n",
    "\n",
    "x = np.linspace(0, 1, 5)\n",
    "y = np.linspace(0, 1, 5)\n",
    "X, Y = np.meshgrid(x, y)\n",
    "structured_array = np.column_stack((X.ravel(), Y.ravel()))\n"
   ]
  },
  {
   "cell_type": "markdown",
   "metadata": {},
   "source": [
    "# Given two arrays, X and Y, construct the Cauchy matrix C (Cij = 1/(xi - yj)) (★★☆)\n",
    "\n",
    "X = np.array([1, 2, 3])\n",
    "Y = np.array([4, 5, 6])\n",
    "C = np.reciprocal(X[:, np.newaxis] - Y)\n"
   ]
  },
  {
   "cell_type": "markdown",
   "metadata": {},
   "source": [
    "# Print the minimum and maximum representable value for each numpy scalar type (★★☆)\n",
    "\n",
    "for dtype in [np.int8, np.int16, np.int32, np.int64]:\n",
    "    info = np.iinfo(dtype)\n",
    "    print(f\"Minimum for {dtype}: {info.min}, Maximum: {info.max}\")\n",
    "\n",
    "for dtype in [np.float32, np.float64]:\n",
    "    info = np.finfo(dtype)\n",
    "    print(f\"Minimum for {dtype}: {info.min}, Maximum: {info.max}\")\n",
    "\n"
   ]
  },
  {
   "cell_type": "markdown",
   "metadata": {},
   "source": [
    "# How to print all the values of an array?\n",
    "Use np.set_printoptions with np.inf for the threshold.\n",
    "\n",
    "np.set_print\n",
    "\n"
   ]
  }
 ],
 "metadata": {
  "language_info": {
   "name": "python"
  }
 },
 "nbformat": 4,
 "nbformat_minor": 2
}
